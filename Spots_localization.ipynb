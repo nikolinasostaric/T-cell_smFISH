{
 "cells": [
  {
   "cell_type": "markdown",
   "id": "029ea385",
   "metadata": {},
   "source": [
    "Organize folder in the following way - in folder there are:\n",
    "1. this script\n",
    "2. file with spots coordinates, pre-filtered such that it containes only spots in good cells (not dividing, not on edge, not without nucleus)\n",
    "3. folder called Cellpose_DONE/ that contains all tif nuclei mask images from Cellpose "
   ]
  },
  {
   "cell_type": "code",
   "execution_count": 2,
   "id": "ae7a54a7",
   "metadata": {},
   "outputs": [],
   "source": [
    "from skimage import io\n",
    "import numpy as np\n",
    "import pandas as pd\n",
    "from glob import glob"
   ]
  },
  {
   "cell_type": "code",
   "execution_count": 2,
   "id": "cde8c959",
   "metadata": {},
   "outputs": [
    {
     "data": {
      "text/plain": [
       "['Cellpose_DONE/D1_2HCD3CD28_05_25_50_cp_masks.tif',\n",
       " 'Cellpose_DONE/D1_2HCD3CD28_06_24_48_cp_masks.tif',\n",
       " 'Cellpose_DONE/D1_2HCD3CD28_01_23_48_cp_masks.tif']"
      ]
     },
     "execution_count": 2,
     "metadata": {},
     "output_type": "execute_result"
    }
   ],
   "source": [
    "# import tif file names in \"files\" object (3rd point in the instructions)\n",
    "files = glob('Cellpose_DONE/*.tif') \n",
    "files\n",
    "\n",
    "# ID = file_.split('/')[1][0:15] # from file name extract unique ID (donor, time, coverslip)"
   ]
  },
  {
   "cell_type": "code",
   "execution_count": 3,
   "id": "d21eaa62",
   "metadata": {},
   "outputs": [
    {
     "data": {
      "text/html": [
       "<div>\n",
       "<style scoped>\n",
       "    .dataframe tbody tr th:only-of-type {\n",
       "        vertical-align: middle;\n",
       "    }\n",
       "\n",
       "    .dataframe tbody tr th {\n",
       "        vertical-align: top;\n",
       "    }\n",
       "\n",
       "    .dataframe thead th {\n",
       "        text-align: right;\n",
       "    }\n",
       "</style>\n",
       "<table border=\"1\" class=\"dataframe\">\n",
       "  <thead>\n",
       "    <tr style=\"text-align: right;\">\n",
       "      <th></th>\n",
       "      <th>ID</th>\n",
       "      <th>cytokine</th>\n",
       "      <th>Z_det</th>\n",
       "      <th>Y_det</th>\n",
       "      <th>X_det</th>\n",
       "    </tr>\n",
       "  </thead>\n",
       "  <tbody>\n",
       "    <tr>\n",
       "      <th>0</th>\n",
       "      <td>D1_2HCD3CD28_01_Cell_CP_10</td>\n",
       "      <td>IFN</td>\n",
       "      <td>23</td>\n",
       "      <td>146</td>\n",
       "      <td>1991</td>\n",
       "    </tr>\n",
       "    <tr>\n",
       "      <th>1</th>\n",
       "      <td>D1_2HCD3CD28_01_Cell_CP_10</td>\n",
       "      <td>IFN</td>\n",
       "      <td>9</td>\n",
       "      <td>129</td>\n",
       "      <td>2000</td>\n",
       "    </tr>\n",
       "    <tr>\n",
       "      <th>2</th>\n",
       "      <td>D1_2HCD3CD28_01_Cell_CP_10</td>\n",
       "      <td>IFN</td>\n",
       "      <td>10</td>\n",
       "      <td>147</td>\n",
       "      <td>2049</td>\n",
       "    </tr>\n",
       "    <tr>\n",
       "      <th>3</th>\n",
       "      <td>D1_2HCD3CD28_01_Cell_CP_10</td>\n",
       "      <td>IFN</td>\n",
       "      <td>8</td>\n",
       "      <td>126</td>\n",
       "      <td>2027</td>\n",
       "    </tr>\n",
       "    <tr>\n",
       "      <th>4</th>\n",
       "      <td>D1_2HCD3CD28_01_Cell_CP_10</td>\n",
       "      <td>IFN</td>\n",
       "      <td>8</td>\n",
       "      <td>135</td>\n",
       "      <td>1998</td>\n",
       "    </tr>\n",
       "    <tr>\n",
       "      <th>...</th>\n",
       "      <td>...</td>\n",
       "      <td>...</td>\n",
       "      <td>...</td>\n",
       "      <td>...</td>\n",
       "      <td>...</td>\n",
       "    </tr>\n",
       "    <tr>\n",
       "      <th>5452</th>\n",
       "      <td>D1_2HCD3CD28_06_Cell_CP_96</td>\n",
       "      <td>TNF</td>\n",
       "      <td>49</td>\n",
       "      <td>1636</td>\n",
       "      <td>564</td>\n",
       "    </tr>\n",
       "    <tr>\n",
       "      <th>5453</th>\n",
       "      <td>D1_2HCD3CD28_06_Cell_CP_96</td>\n",
       "      <td>TNF</td>\n",
       "      <td>51</td>\n",
       "      <td>1610</td>\n",
       "      <td>552</td>\n",
       "    </tr>\n",
       "    <tr>\n",
       "      <th>5454</th>\n",
       "      <td>D1_2HCD3CD28_06_Cell_CP_96</td>\n",
       "      <td>TNF</td>\n",
       "      <td>30</td>\n",
       "      <td>1624</td>\n",
       "      <td>569</td>\n",
       "    </tr>\n",
       "    <tr>\n",
       "      <th>5455</th>\n",
       "      <td>D1_2HCD3CD28_06_Cell_CP_96</td>\n",
       "      <td>TNF</td>\n",
       "      <td>30</td>\n",
       "      <td>1629</td>\n",
       "      <td>524</td>\n",
       "    </tr>\n",
       "    <tr>\n",
       "      <th>5456</th>\n",
       "      <td>D1_2HCD3CD28_06_Cell_CP_99</td>\n",
       "      <td>TNF</td>\n",
       "      <td>28</td>\n",
       "      <td>1612</td>\n",
       "      <td>1703</td>\n",
       "    </tr>\n",
       "  </tbody>\n",
       "</table>\n",
       "<p>5457 rows × 5 columns</p>\n",
       "</div>"
      ],
      "text/plain": [
       "                              ID cytokine  Z_det  Y_det  X_det\n",
       "0     D1_2HCD3CD28_01_Cell_CP_10      IFN     23    146   1991\n",
       "1     D1_2HCD3CD28_01_Cell_CP_10      IFN      9    129   2000\n",
       "2     D1_2HCD3CD28_01_Cell_CP_10      IFN     10    147   2049\n",
       "3     D1_2HCD3CD28_01_Cell_CP_10      IFN      8    126   2027\n",
       "4     D1_2HCD3CD28_01_Cell_CP_10      IFN      8    135   1998\n",
       "...                          ...      ...    ...    ...    ...\n",
       "5452  D1_2HCD3CD28_06_Cell_CP_96      TNF     49   1636    564\n",
       "5453  D1_2HCD3CD28_06_Cell_CP_96      TNF     51   1610    552\n",
       "5454  D1_2HCD3CD28_06_Cell_CP_96      TNF     30   1624    569\n",
       "5455  D1_2HCD3CD28_06_Cell_CP_96      TNF     30   1629    524\n",
       "5456  D1_2HCD3CD28_06_Cell_CP_99      TNF     28   1612   1703\n",
       "\n",
       "[5457 rows x 5 columns]"
      ]
     },
     "execution_count": 3,
     "metadata": {},
     "output_type": "execute_result"
    }
   ],
   "source": [
    "# import file with spots coordinates of filtered cells into df object (2nd point in the instructions)\n",
    "# this is an example for donor 1 - timepoint 2h, but a list for all donors/timepoints/cells can also be plugged in for a bulk analysis\n",
    "df = pd.read_csv('Filtered_list_of_spots_coordinates_D1_2H.csv')\n",
    "df.drop('Unnamed: 0', inplace=True, axis=1) # remove index column \n",
    "df"
   ]
  },
  {
   "cell_type": "markdown",
   "id": "864d9892",
   "metadata": {},
   "source": [
    "Using negative indices (for z below kept stack) actually extracts a wrong value because it just goes from the other side,\n",
    "so nuclei_mask[1, 189, 2000] is the same as nuclei_mask[-30, 189, 2000]\n",
    "That's why we have to prevent tif intensity search for spots coordinates that fall below the cut stack."
   ]
  },
  {
   "cell_type": "code",
   "execution_count": 4,
   "id": "b562e043",
   "metadata": {},
   "outputs": [
    {
     "name": "stdout",
     "output_type": "stream",
     "text": [
      "0 out of 5457\n",
      "1000 out of 5457\n",
      "2000 out of 5457\n",
      "3000 out of 5457\n",
      "4000 out of 5457\n",
      "5000 out of 5457\n",
      "DONE!\n"
     ]
    }
   ],
   "source": [
    "# go to each spot, i.e., row by row through spots table; check ID, then open the corresponding nuclei mask tif;\n",
    "# check if the coordinates of spot have non-zero intensity in the mask image (= if spot is in a nucleus);\n",
    "# then record this information in a new column of spots table\n",
    "\n",
    "spots_below_stack = 0\n",
    "spots_above_stack = 0\n",
    "\n",
    "# loop through the table of spots locations\n",
    "for index, row in df.iterrows(): \n",
    "\n",
    "    # counter to track progress\n",
    "    print(index)\n",
    "    if (index-1)%1000 == 0:\n",
    "        print(index-1, \"out of\", len(df))\n",
    "\n",
    "    # find ID for the given row; note that this line may have to be adjusted depending on file naming\n",
    "    row_ID = row['ID'][0:15] \n",
    "    print(row_ID)\n",
    "\n",
    "    # find tif mask for the given ID (donor_timepoint_coverslip) among files and turn into string\n",
    "    file_ = list(filter(lambda x: row_ID in x, files))\n",
    "    print(file_)\n",
    "    file_ = \"\".join(file_)   \n",
    "\n",
    "    # load the image file; dimensions are (z-stack, 2034, 2034)\n",
    "    nuclei_mask = io.imread(file_)\n",
    "    print(nuclei_mask.shape)\n",
    "\n",
    "    # from filename of tif cellpose mask extract from which stack the tif began (note: z-stack was clipped for purposes of Cellpose)\n",
    "    begin_stack = int(file_.split('_')[-4]) \n",
    "    max_stack = int(file_.split('_')[-3]) - int(file_.split('_')[-4]) \n",
    "    print(begin_stack)\n",
    "    print(max_stack)\n",
    "\n",
    "    # extract coordinates x, y, z of spot (adjust for z stack clipping)\n",
    "    x,y,z = row['X_det'], row['Y_det'], row['Z_det'] - begin_stack \n",
    "    x,y,z = int(x), int(y), int(z)\n",
    "\n",
    "    # if z is below 0 (below the first stack) or above max_stack, then we're outside nucleus > assign 0\n",
    "    # else assign value from tif image at given coordinates \n",
    "    if z < 0:\n",
    "        df.loc[index,'nuclei_mask'] = 0\n",
    "        spots_below_stack = spots_below_stack + 1\n",
    "    elif z > max_stack:\n",
    "        df.loc[index,'nuclei_mask'] = 0\n",
    "        spots_above_stack = spots_above_stack + 1\n",
    "    else:\n",
    "        df.loc[index,'nuclei_mask'] = nuclei_mask[z,y,x]\n",
    "        \n",
    "    print(\"-------------------\")\n",
    "\n",
    "print(\"DONE!\")\n",
    "\n",
    "# save the table\n",
    "df.to_csv(\"Spots_with_localization.csv\")"
   ]
  },
  {
   "cell_type": "code",
   "execution_count": 5,
   "id": "1ec941bd",
   "metadata": {},
   "outputs": [
    {
     "name": "stdout",
     "output_type": "stream",
     "text": [
      "2615 out of 5457 are in nucleus - 47.9 %\n",
      "We had 1721 spots below the cut stack - 31.5 %\n",
      "We had 56 spots above the cut stack - 1.0 %\n"
     ]
    }
   ],
   "source": [
    "# print overview statistics\n",
    "print(len(df[df['nuclei_mask']>0]), \"out of\", len(df), \"are in nucleus -\", round(100*len(df[df['nuclei_mask']>0])/len(df), 1),\"%\")\n",
    "print(\"We had\", spots_below_stack , \"spots below the cut stack -\", round(100*spots_below_stack/len(df),1),\"%\")\n",
    "print(\"We had\", spots_above_stack , \"spots above the cut stack -\", round(100*spots_above_stack/len(df),1),\"%\")"
   ]
  }
 ],
 "metadata": {
  "kernelspec": {
   "display_name": "Python 3 (ipykernel)",
   "language": "python",
   "name": "python3"
  },
  "language_info": {
   "codemirror_mode": {
    "name": "ipython",
    "version": 3
   },
   "file_extension": ".py",
   "mimetype": "text/x-python",
   "name": "python",
   "nbconvert_exporter": "python",
   "pygments_lexer": "ipython3",
   "version": "3.11.4"
  }
 },
 "nbformat": 4,
 "nbformat_minor": 5
}
